{
 "cells": [
  {
   "cell_type": "code",
   "execution_count": 12,
   "metadata": {},
   "outputs": [],
   "source": [
    "import pandas as pd\n",
    "import numpy as np"
   ]
  },
  {
   "cell_type": "code",
   "execution_count": 16,
   "metadata": {},
   "outputs": [
    {
     "data": {
      "text/html": [
       "<div>\n",
       "<style scoped>\n",
       "    .dataframe tbody tr th:only-of-type {\n",
       "        vertical-align: middle;\n",
       "    }\n",
       "\n",
       "    .dataframe tbody tr th {\n",
       "        vertical-align: top;\n",
       "    }\n",
       "\n",
       "    .dataframe thead th {\n",
       "        text-align: right;\n",
       "    }\n",
       "</style>\n",
       "<table border=\"1\" class=\"dataframe\">\n",
       "  <thead>\n",
       "    <tr style=\"text-align: right;\">\n",
       "      <th></th>\n",
       "      <th>school_code</th>\n",
       "      <th>class</th>\n",
       "      <th>name</th>\n",
       "      <th>date_Of_Birth</th>\n",
       "      <th>age</th>\n",
       "      <th>height</th>\n",
       "      <th>weight</th>\n",
       "      <th>address</th>\n",
       "    </tr>\n",
       "  </thead>\n",
       "  <tbody>\n",
       "    <tr>\n",
       "      <th>S1</th>\n",
       "      <td>s001</td>\n",
       "      <td>V</td>\n",
       "      <td>Alberto Franco</td>\n",
       "      <td>15/05/2002</td>\n",
       "      <td>12</td>\n",
       "      <td>173</td>\n",
       "      <td>35</td>\n",
       "      <td>street1</td>\n",
       "    </tr>\n",
       "    <tr>\n",
       "      <th>S2</th>\n",
       "      <td>s002</td>\n",
       "      <td>V</td>\n",
       "      <td>Gino Mcneill</td>\n",
       "      <td>17/05/2002</td>\n",
       "      <td>12</td>\n",
       "      <td>192</td>\n",
       "      <td>32</td>\n",
       "      <td>street2</td>\n",
       "    </tr>\n",
       "    <tr>\n",
       "      <th>S3</th>\n",
       "      <td>s003</td>\n",
       "      <td>VI</td>\n",
       "      <td>Ryan Parkes</td>\n",
       "      <td>16/02/1999</td>\n",
       "      <td>13</td>\n",
       "      <td>186</td>\n",
       "      <td>33</td>\n",
       "      <td>street3</td>\n",
       "    </tr>\n",
       "    <tr>\n",
       "      <th>S4</th>\n",
       "      <td>s001</td>\n",
       "      <td>VI</td>\n",
       "      <td>Eesha Hinton</td>\n",
       "      <td>25/09/1998</td>\n",
       "      <td>13</td>\n",
       "      <td>167</td>\n",
       "      <td>30</td>\n",
       "      <td>street1</td>\n",
       "    </tr>\n",
       "    <tr>\n",
       "      <th>S5</th>\n",
       "      <td>s002</td>\n",
       "      <td>V</td>\n",
       "      <td>Gino Mcneill</td>\n",
       "      <td>11/05/2002</td>\n",
       "      <td>14</td>\n",
       "      <td>151</td>\n",
       "      <td>31</td>\n",
       "      <td>street2</td>\n",
       "    </tr>\n",
       "  </tbody>\n",
       "</table>\n",
       "</div>"
      ],
      "text/plain": [
       "   school_code class            name date_Of_Birth   age  height  weight  \\\n",
       "S1        s001     V  Alberto Franco     15/05/2002   12     173      35   \n",
       "S2        s002     V    Gino Mcneill     17/05/2002   12     192      32   \n",
       "S3        s003    VI     Ryan Parkes     16/02/1999   13     186      33   \n",
       "S4        s001    VI    Eesha Hinton     25/09/1998   13     167      30   \n",
       "S5        s002     V    Gino Mcneill     11/05/2002   14     151      31   \n",
       "\n",
       "    address  \n",
       "S1  street1  \n",
       "S2  street2  \n",
       "S3  street3  \n",
       "S4  street1  \n",
       "S5  street2  "
      ]
     },
     "execution_count": 16,
     "metadata": {},
     "output_type": "execute_result"
    }
   ],
   "source": [
    "student_data = pd.DataFrame({\n",
    "    'school_code': ['s001','s002','s003','s001','s002','s004'],\n",
    "    'class': ['V', 'V', 'VI', 'VI', 'V', 'VI'],\n",
    "    'name': ['Alberto Franco','Gino Mcneill','Ryan Parkes', 'Eesha Hinton', 'Gino Mcneill', 'David Parkes'],\n",
    "    'date_Of_Birth ': ['15/05/2002','17/05/2002','16/02/1999','25/09/1998','11/05/2002','15/09/1997'],\n",
    "    'age': [12, 12, 13, 13, 14, 12],\n",
    "    'height': [173, 192, 186, 167, 151, 159],\n",
    "    'weight': [35, 32, 33, 30, 31, 32],\n",
    "    'address': ['street1', 'street2', 'street3', 'street1', 'street2', 'street4']},\n",
    "    index=['S1', 'S2', 'S3', 'S4', 'S5', 'S6'])\n",
    "student_data.head()"
   ]
  },
  {
   "cell_type": "markdown",
   "metadata": {},
   "source": [
    "Write a Pandas program to split the following dataframe into groups based on school code. Also check the type of GroupBy object"
   ]
  },
  {
   "cell_type": "code",
   "execution_count": 6,
   "metadata": {},
   "outputs": [
    {
     "name": "stdout",
     "output_type": "stream",
     "text": [
      "('s001',    school_code class            name date_Of_Birth   age  height  weight  \\\n",
      "S1        s001     V  Alberto Franco     15/05/2002   12     173      35   \n",
      "S4        s001    VI    Eesha Hinton     25/09/1998   13     167      30   \n",
      "\n",
      "    address  \n",
      "S1  street1  \n",
      "S4  street1  )\n",
      "('s002',    school_code class          name date_Of_Birth   age  height  weight  \\\n",
      "S2        s002     V  Gino Mcneill     17/05/2002   12     192      32   \n",
      "S5        s002     V  Gino Mcneill     11/05/2002   14     151      31   \n",
      "\n",
      "    address  \n",
      "S2  street2  \n",
      "S5  street2  )\n",
      "('s003',    school_code class         name date_Of_Birth   age  height  weight  address\n",
      "S3        s003    VI  Ryan Parkes     16/02/1999   13     186      33  street3)\n",
      "('s004',    school_code class          name date_Of_Birth   age  height  weight  \\\n",
      "S6        s004    VI  David Parkes     15/09/1997   12     159      32   \n",
      "\n",
      "    address  \n",
      "S6  street4  )\n"
     ]
    }
   ],
   "source": [
    "one=student_data.groupby([\"school_code\"])\n",
    "for name in one:\n",
    "    print(name)"
   ]
  },
  {
   "cell_type": "markdown",
   "metadata": {},
   "source": [
    "2. Write a Pandas program to split the following given dataframe by school code and get mean, min, and max value of age for each school"
   ]
  },
  {
   "cell_type": "code",
   "execution_count": 14,
   "metadata": {},
   "outputs": [
    {
     "name": "stdout",
     "output_type": "stream",
     "text": [
      "              age        \n",
      "             mean min max\n",
      "school_code              \n",
      "s001         12.5  12  13\n",
      "s002         13.0  12  14\n",
      "s003         13.0  13  13\n",
      "s004         12.0  12  12\n"
     ]
    }
   ],
   "source": [
    "two=student_data.groupby([\"school_code\"]).agg({'age': ['mean', 'min', 'max']})\n",
    "print(two)"
   ]
  },
  {
   "cell_type": "markdown",
   "metadata": {},
   "source": [
    "Write a Pandas program to split the following given dataframe into groups based on school code and class"
   ]
  },
  {
   "cell_type": "code",
   "execution_count": 17,
   "metadata": {},
   "outputs": [
    {
     "name": "stdout",
     "output_type": "stream",
     "text": [
      "('s001', 'V')\n",
      "   school_code class            name date_Of_Birth   age  height  weight  \\\n",
      "S1        s001     V  Alberto Franco     15/05/2002   12     173      35   \n",
      "\n",
      "    address  \n",
      "S1  street1  \n",
      "('s001', 'VI')\n",
      "   school_code class          name date_Of_Birth   age  height  weight  \\\n",
      "S4        s001    VI  Eesha Hinton     25/09/1998   13     167      30   \n",
      "\n",
      "    address  \n",
      "S4  street1  \n",
      "('s002', 'V')\n",
      "   school_code class          name date_Of_Birth   age  height  weight  \\\n",
      "S2        s002     V  Gino Mcneill     17/05/2002   12     192      32   \n",
      "S5        s002     V  Gino Mcneill     11/05/2002   14     151      31   \n",
      "\n",
      "    address  \n",
      "S2  street2  \n",
      "S5  street2  \n",
      "('s003', 'VI')\n",
      "   school_code class         name date_Of_Birth   age  height  weight  address\n",
      "S3        s003    VI  Ryan Parkes     16/02/1999   13     186      33  street3\n",
      "('s004', 'VI')\n",
      "   school_code class          name date_Of_Birth   age  height  weight  \\\n",
      "S6        s004    VI  David Parkes     15/09/1997   12     159      32   \n",
      "\n",
      "    address  \n",
      "S6  street4  \n"
     ]
    }
   ],
   "source": [
    "three=student_data.groupby(['school_code', 'class'])\n",
    "for name,group in three:\n",
    "    print(name)\n",
    "    print(group)"
   ]
  },
  {
   "cell_type": "markdown",
   "metadata": {},
   "source": [
    "### Write a Pandas program to split the following given dataframe into groups based on school code and cast grouping as a list"
   ]
  },
  {
   "cell_type": "code",
   "execution_count": 18,
   "metadata": {},
   "outputs": [
    {
     "name": "stdout",
     "output_type": "stream",
     "text": [
      "[('s001',    school_code class            name date_Of_Birth   age  height  weight  \\\n",
      "S1        s001     V  Alberto Franco     15/05/2002   12     173      35   \n",
      "S4        s001    VI    Eesha Hinton     25/09/1998   13     167      30   \n",
      "\n",
      "    address  \n",
      "S1  street1  \n",
      "S4  street1  ), ('s002',    school_code class          name date_Of_Birth   age  height  weight  \\\n",
      "S2        s002     V  Gino Mcneill     17/05/2002   12     192      32   \n",
      "S5        s002     V  Gino Mcneill     11/05/2002   14     151      31   \n",
      "\n",
      "    address  \n",
      "S2  street2  \n",
      "S5  street2  ), ('s003',    school_code class         name date_Of_Birth   age  height  weight  address\n",
      "S3        s003    VI  Ryan Parkes     16/02/1999   13     186      33  street3), ('s004',    school_code class          name date_Of_Birth   age  height  weight  \\\n",
      "S6        s004    VI  David Parkes     15/09/1997   12     159      32   \n",
      "\n",
      "    address  \n",
      "S6  street4  )]\n"
     ]
    }
   ],
   "source": [
    "four=student_data.groupby([\"school_code\"])\n",
    "print(list(four))"
   ]
  },
  {
   "cell_type": "markdown",
   "metadata": {},
   "source": [
    "### Write a Pandas program to split the following given dataframe into groups based on single column and multiple columns. Find the size of the grouped data"
   ]
  },
  {
   "cell_type": "code",
   "execution_count": 19,
   "metadata": {},
   "outputs": [
    {
     "name": "stdout",
     "output_type": "stream",
     "text": [
      "school_code\n",
      "s001    2\n",
      "s002    2\n",
      "s003    1\n",
      "s004    1\n",
      "dtype: int64\n",
      "school_code  class\n",
      "s001         V        1\n",
      "             VI       1\n",
      "s002         V        2\n",
      "s003         VI       1\n",
      "s004         VI       1\n",
      "dtype: int64\n"
     ]
    }
   ],
   "source": [
    "print(four.size())\n",
    "print(three.size())"
   ]
  },
  {
   "cell_type": "markdown",
   "metadata": {},
   "source": [
    "### Write a Pandas program to split the following given dataframe into groups based on school code and call a specific group with the name of the group"
   ]
  },
  {
   "cell_type": "code",
   "execution_count": 5,
   "metadata": {},
   "outputs": [
    {
     "name": "stdout",
     "output_type": "stream",
     "text": [
      "   school_code class          name date_Of_Birth   age  height  weight  \\\n",
      "S3        s003    VI   Ryan Parkes     16/02/1999   13     186      33   \n",
      "S4        s001    VI  Eesha Hinton     25/09/1998   13     167      30   \n",
      "S6        s004    VI  David Parkes     15/09/1997   12     159      32   \n",
      "\n",
      "    address  \n",
      "S3  street3  \n",
      "S4  street1  \n",
      "S6  street4  \n"
     ]
    }
   ],
   "source": [
    "five=student_data.groupby([\"class\"])\n",
    "print(five.get_group('VI'))"
   ]
  },
  {
   "cell_type": "code",
   "execution_count": 2,
   "metadata": {},
   "outputs": [
    {
     "name": "stdout",
     "output_type": "stream",
     "text": [
      "    ord_no  purch_amt    ord_date  customer_id  salesman_id\n",
      "0    70001     150.50  2012-10-05         3005         5002\n",
      "1    70009     270.65  2012-09-10         3001         5005\n",
      "2    70002      65.26  2012-10-05         3002         5001\n",
      "3    70004     110.50  2012-08-17         3009         5003\n",
      "4    70007     948.50  2012-09-10         3005         5002\n",
      "5    70005    2400.60  2012-07-27         3007         5001\n",
      "6    70008    5760.00  2012-09-10         3002         5001\n",
      "7    70010    1983.43  2012-10-10         3004         5006\n",
      "8    70003    2480.40  2012-10-10         3009         5003\n",
      "9    70012     250.45  2012-06-27         3008         5002\n",
      "10   70011      75.29  2012-08-17         3003         5007\n",
      "11   70013    3045.60  2012-04-25         3002         5001\n"
     ]
    }
   ],
   "source": [
    "orders_data = pd.DataFrame({\n",
    "'ord_no':[70001,70009,70002,70004,70007,70005,70008,70010,70003,70012,70011,70013],\n",
    "'purch_amt':[150.5,270.65,65.26,110.5,948.5,2400.6,5760,1983.43,2480.4,250.45, 75.29,3045.6],\n",
    "'ord_date': ['2012-10-05','2012-09-10','2012-10-05','2012-08-17','2012-09-10','2012-07-27','2012-09-10','2012-10-10','2012-10-10','2012-06-27','2012-08-17','2012-04-25'],\n",
    "'customer_id':[3005,3001,3002,3009,3005,3007,3002,3004,3009,3008,3003,3002],\n",
    "'salesman_id': [5002,5005,5001,5003,5002,5001,5001,5006,5003,5002,5007,5001]})\n",
    "print(orders_data)"
   ]
  },
  {
   "cell_type": "markdown",
   "metadata": {},
   "source": [
    "### Write a Pandas program to split a dataset, group by one column and get mean, min, and max values by group. Using the following dataset find the mean, min, and max values of purchase amount (purch_amt) group by customer id (customer_id)"
   ]
  },
  {
   "cell_type": "code",
   "execution_count": 21,
   "metadata": {},
   "outputs": [
    {
     "name": "stdout",
     "output_type": "stream",
     "text": [
      "               purch_amt                  \n",
      "                    mean      min      max\n",
      "customer_id                               \n",
      "3001          270.650000   270.65   270.65\n",
      "3002         2956.953333    65.26  5760.00\n",
      "3003           75.290000    75.29    75.29\n",
      "3004         1983.430000  1983.43  1983.43\n",
      "3005          549.500000   150.50   948.50\n",
      "3007         2400.600000  2400.60  2400.60\n",
      "3008          250.450000   250.45   250.45\n",
      "3009         1295.450000   110.50  2480.40\n"
     ]
    }
   ],
   "source": [
    "one=orders_data.groupby(['customer_id']).agg({'purch_amt':['mean', 'min', 'max']})\n",
    "print(one)\n"
   ]
  },
  {
   "cell_type": "markdown",
   "metadata": {},
   "source": [
    "### Write a Pandas program to split a dataset to group by two columns and count by each row"
   ]
  },
  {
   "cell_type": "code",
   "execution_count": 32,
   "metadata": {},
   "outputs": [
    {
     "name": "stdout",
     "output_type": "stream",
     "text": [
      "customer_id  ord_date  \n",
      "3001         2012-09-10    1\n",
      "3002         2012-04-25    1\n",
      "             2012-09-10    1\n",
      "             2012-10-05    1\n",
      "3003         2012-08-17    1\n",
      "3004         2012-10-10    1\n",
      "3005         2012-09-10    1\n",
      "             2012-10-05    1\n",
      "3007         2012-07-27    1\n",
      "3008         2012-06-27    1\n",
      "3009         2012-08-17    1\n",
      "             2012-10-10    1\n",
      "dtype: int64\n"
     ]
    }
   ],
   "source": [
    "two=orders_data.groupby(['customer_id','ord_date']).size()\n",
    "print(two)"
   ]
  },
  {
   "cell_type": "code",
   "execution_count": 44,
   "metadata": {},
   "outputs": [
    {
     "name": "stdout",
     "output_type": "stream",
     "text": [
      "                         0\n",
      "customer_id salesman_id   \n",
      "3001        5005         1\n",
      "3002        5001         3\n",
      "3003        5007         1\n",
      "3004        5006         1\n",
      "3005        5002         2\n",
      "3007        5001         1\n",
      "3008        5002         1\n",
      "3009        5003         2\n"
     ]
    }
   ],
   "source": [
    "## three=orders_data.groupby(['customer_id','salesman_id']).size().reset_index().groupby(['customer_id','salesman_id'])[[0]].sum()\n",
    " \n",
    "three=orders_data.groupby(['customer_id','salesman_id']).size().reset_index().groupby(['customer_id','salesman_id'])[[0]].max()\n",
    "print(three)"
   ]
  },
  {
   "cell_type": "markdown",
   "metadata": {},
   "source": [
    "### Write a Pandas program to split a dataset to group by two columns and then sort the aggregated results within the groups"
   ]
  },
  {
   "cell_type": "code",
   "execution_count": 66,
   "metadata": {},
   "outputs": [
    {
     "name": "stdout",
     "output_type": "stream",
     "text": [
      "                         purch_amt\n",
      "customer_id salesman_id           \n",
      "3002        5001           8870.86\n",
      "3009        5003           2590.90\n",
      "3007        5001           2400.60\n",
      "3004        5006           1983.43\n",
      "3005        5002           1099.00\n",
      "3001        5005            270.65\n",
      "3008        5002            250.45\n",
      "3003        5007             75.29\n",
      "                         purch_amt\n",
      "customer_id salesman_id           \n",
      "3002        5001           8870.86\n",
      "3009        5003           2590.90\n",
      "3007        5001           2400.60\n",
      "3004        5006           1983.43\n",
      "3005        5002           1099.00\n",
      "3001        5005            270.65\n",
      "3008        5002            250.45\n",
      "3003        5007             75.29\n"
     ]
    }
   ],
   "source": [
    "four=orders_data.groupby(['customer_id','salesman_id']).agg({'purch_amt':sum}).sort_values(by='purch_amt', ascending=False)\n",
    "print(four)\n",
    "\n",
    "five=orders_data.groupby(['customer_id','salesman_id']).agg({'purch_amt':sum}).nlargest(n=10,columns='purch_amt' )\n",
    "print(five)"
   ]
  },
  {
   "cell_type": "code",
   "execution_count": 10,
   "metadata": {},
   "outputs": [
    {
     "name": "stdout",
     "output_type": "stream",
     "text": [
      "    ord_no  purch_amt    ord_date  customer_id  salesman_id\n",
      "0    70001     150.50  05-10-2012         3001         5002\n",
      "1    70009     270.65  09-10-2012         3001         5005\n",
      "2    70002      65.26  05-10-2012         3005         5001\n",
      "3    70004     110.50  08-17-2012         3001         5003\n",
      "4    70007     948.50  10-09-2012         3005         5002\n",
      "5    70005    2400.60  07-27-2012         3001         5001\n",
      "6    70008    5760.00  10-09-2012         3005         5001\n",
      "7    70010    1983.43  10-10-2012         3001         5006\n",
      "8    70003    2480.40  10-10-2012         3005         5003\n",
      "9    70012     250.45  06-17-2012         3001         5002\n",
      "10   70011      75.29  07-08-2012         3005         5007\n",
      "11   70013    3045.60  04-25-2012         3005         5001\n"
     ]
    }
   ],
   "source": [
    "df = pd.DataFrame({\n",
    "'ord_no':[70001,70009,70002,70004,70007,70005,70008,70010,70003,70012,70011,70013],\n",
    "'purch_amt':[150.5,270.65,65.26,110.5,948.5,2400.6,5760,1983.43,2480.4,250.45, 75.29,3045.6],\n",
    "'ord_date': ['05-10-2012','09-10-2012','05-10-2012','08-17-2012','10-09-2012','07-27-2012','10-09-2012','10-10-2012','10-10-2012','06-17-2012','07-08-2012','04-25-2012'],\n",
    "'customer_id':[3001,3001,3005,3001,3005,3001,3005,3001,3005,3001,3005,3005],\n",
    "'salesman_id': [5002,5005,5001,5003,5002,5001,5001,5006,5003,5002,5007,5001]})\n",
    "print(df)"
   ]
  },
  {
   "cell_type": "markdown",
   "metadata": {},
   "source": [
    "### Write a Pandas program to split the following dataframe into groups and calculate monthly purchase amount"
   ]
  },
  {
   "cell_type": "code",
   "execution_count": 17,
   "metadata": {},
   "outputs": [
    {
     "name": "stdout",
     "output_type": "stream",
     "text": [
      "<class 'pandas.core.frame.DataFrame'>\n",
      "RangeIndex: 12 entries, 0 to 11\n",
      "Data columns (total 5 columns):\n",
      " #   Column       Non-Null Count  Dtype  \n",
      "---  ------       --------------  -----  \n",
      " 0   ord_no       12 non-null     int64  \n",
      " 1   purch_amt    12 non-null     float64\n",
      " 2   ord_date     12 non-null     object \n",
      " 3   customer_id  12 non-null     int64  \n",
      " 4   salesman_id  12 non-null     int64  \n",
      "dtypes: float64(1), int64(3), object(1)\n",
      "memory usage: 608.0+ bytes\n",
      "<class 'pandas.core.frame.DataFrame'>\n",
      "RangeIndex: 12 entries, 0 to 11\n",
      "Data columns (total 5 columns):\n",
      " #   Column       Non-Null Count  Dtype         \n",
      "---  ------       --------------  -----         \n",
      " 0   ord_no       12 non-null     int64         \n",
      " 1   purch_amt    12 non-null     float64       \n",
      " 2   ord_date     12 non-null     datetime64[ns]\n",
      " 3   customer_id  12 non-null     int64         \n",
      " 4   salesman_id  12 non-null     int64         \n",
      "dtypes: datetime64[ns](1), float64(1), int64(3)\n",
      "memory usage: 608.0 bytes\n"
     ]
    }
   ],
   "source": [
    "df.info()\n",
    "df['ord_date']= pd.to_datetime(df['ord_date']) \n",
    "df.info()\n"
   ]
  },
  {
   "cell_type": "code",
   "execution_count": 8,
   "metadata": {},
   "outputs": [
    {
     "name": "stdout",
     "output_type": "stream",
     "text": [
      "            purch_amt\n",
      "ord_date             \n",
      "2012-04-30    3045.60\n",
      "2012-05-31     215.76\n",
      "2012-06-30     250.45\n",
      "2012-07-31    2475.89\n",
      "2012-08-31     110.50\n",
      "2012-09-30     270.65\n",
      "2012-10-31   11172.33\n"
     ]
    }
   ],
   "source": [
    "six=df.set_index('ord_date').groupby(pd.Grouper(freq='M')).agg({'purch_amt':sum})\n",
    "print(six)"
   ]
  },
  {
   "cell_type": "code",
   "execution_count": 5,
   "metadata": {},
   "outputs": [
    {
     "name": "stdout",
     "output_type": "stream",
     "text": [
      "            purch_amt\n",
      "ord_date             \n",
      "2012-04-25    3045.60\n",
      "2012-05-10     215.76\n",
      "2012-06-17     250.45\n",
      "2012-07-08      75.29\n",
      "2012-07-27    2400.60\n",
      "2012-08-17     110.50\n",
      "2012-09-10     270.65\n",
      "2012-10-09    6708.50\n",
      "2012-10-10    4463.83\n"
     ]
    }
   ],
   "source": [
    "seven=df.groupby('ord_date').agg({'purch_amt':sum})\n",
    "print(seven)\n",
    "\n",
    "### This does not function to sum it up by month , only groups by date"
   ]
  },
  {
   "cell_type": "markdown",
   "metadata": {},
   "source": [
    "### Write a Pandas program to split the following dataframe into groups, group by month and year based on order date and find the total purchase amount year wise, month wise"
   ]
  },
  {
   "cell_type": "raw",
   "metadata": {},
   "source": []
  },
  {
   "cell_type": "code",
   "execution_count": 19,
   "metadata": {},
   "outputs": [
    {
     "name": "stdout",
     "output_type": "stream",
     "text": [
      "                   purch_amt\n",
      "ord_date ord_date           \n",
      "2012     4           3045.60\n",
      "         5            215.76\n",
      "         6            250.45\n",
      "         7           2475.89\n",
      "         8            110.50\n",
      "         9            270.65\n",
      "         10         11172.33\n"
     ]
    }
   ],
   "source": [
    "eight= df.groupby([df['ord_date'].dt.year,df['ord_date'].dt.month]).agg({'purch_amt':sum})\n",
    "print(eight)"
   ]
  },
  {
   "cell_type": "code",
   "execution_count": null,
   "metadata": {},
   "outputs": [],
   "source": []
  }
 ],
 "metadata": {
  "kernelspec": {
   "display_name": "Python 3",
   "language": "python",
   "name": "python3"
  },
  "language_info": {
   "codemirror_mode": {
    "name": "ipython",
    "version": 3
   },
   "file_extension": ".py",
   "mimetype": "text/x-python",
   "name": "python",
   "nbconvert_exporter": "python",
   "pygments_lexer": "ipython3",
   "version": "3.7.6"
  }
 },
 "nbformat": 4,
 "nbformat_minor": 4
}
